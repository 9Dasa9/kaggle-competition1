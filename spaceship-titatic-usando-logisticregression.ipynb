{
 "cells": [
  {
   "cell_type": "code",
   "execution_count": 1,
   "id": "bb90726b",
   "metadata": {
    "execution": {
     "iopub.execute_input": "2023-11-20T23:55:01.869208Z",
     "iopub.status.busy": "2023-11-20T23:55:01.868742Z",
     "iopub.status.idle": "2023-11-20T23:55:03.638286Z",
     "shell.execute_reply": "2023-11-20T23:55:03.637292Z"
    },
    "papermill": {
     "duration": 1.781714,
     "end_time": "2023-11-20T23:55:03.640387",
     "exception": false,
     "start_time": "2023-11-20T23:55:01.858673",
     "status": "completed"
    },
    "tags": []
   },
   "outputs": [
    {
     "name": "stdout",
     "output_type": "stream",
     "text": [
      "/kaggle/input/spaceship-titanic/sample_submission.csv\n",
      "/kaggle/input/spaceship-titanic/train.csv\n",
      "/kaggle/input/spaceship-titanic/test.csv\n"
     ]
    }
   ],
   "source": [
    "# This Python 3 environment comes with many helpful analytics libraries installed\n",
    "# It is defined by the kaggle/python Docker image: https://github.com/kaggle/docker-python\n",
    "# For example, here's several helpful packages to load\n",
    "\n",
    "import numpy as np # linear algebra\n",
    "import pandas as pd # data processing, CSV file I/O (e.g. pd.read_csv)\n",
    "\n",
    "#Importamos las librerias que utilizaremos\n",
    "from sklearn.model_selection import train_test_split\n",
    "from sklearn.impute import SimpleImputer\n",
    "from sklearn.linear_model import LogisticRegression\n",
    "from sklearn.preprocessing import LabelEncoder\n",
    "\n",
    "# Input data files are available in the read-only \"../input/\" directory\n",
    "# For example, running this (by clicking run or pressing Shift+Enter) will list all files under the input directory\n",
    "\n",
    "import os\n",
    "for dirname, _, filenames in os.walk('/kaggle/input'):\n",
    "    for filename in filenames:\n",
    "        print(os.path.join(dirname, filename))\n",
    "\n",
    "# You can write up to 20GB to the current directory (/kaggle/working/) that gets preserved as output when you create a version using \"Save & Run All\" \n",
    "# You can also write temporary files to /kaggle/temp/, but they won't be saved outside of the current session"
   ]
  },
  {
   "cell_type": "code",
   "execution_count": 2,
   "id": "e894dc66",
   "metadata": {
    "execution": {
     "iopub.execute_input": "2023-11-20T23:55:03.652677Z",
     "iopub.status.busy": "2023-11-20T23:55:03.652170Z",
     "iopub.status.idle": "2023-11-20T23:55:03.656893Z",
     "shell.execute_reply": "2023-11-20T23:55:03.655454Z"
    },
    "papermill": {
     "duration": 0.013097,
     "end_time": "2023-11-20T23:55:03.658811",
     "exception": false,
     "start_time": "2023-11-20T23:55:03.645714",
     "status": "completed"
    },
    "tags": []
   },
   "outputs": [],
   "source": [
    "#Primero analizaremos nuestros datos"
   ]
  },
  {
   "cell_type": "code",
   "execution_count": 3,
   "id": "08bca695",
   "metadata": {
    "execution": {
     "iopub.execute_input": "2023-11-20T23:55:03.670225Z",
     "iopub.status.busy": "2023-11-20T23:55:03.669884Z",
     "iopub.status.idle": "2023-11-20T23:55:03.736175Z",
     "shell.execute_reply": "2023-11-20T23:55:03.735049Z"
    },
    "papermill": {
     "duration": 0.074943,
     "end_time": "2023-11-20T23:55:03.738776",
     "exception": false,
     "start_time": "2023-11-20T23:55:03.663833",
     "status": "completed"
    },
    "tags": []
   },
   "outputs": [],
   "source": [
    "train = pd.read_csv(r\"/kaggle/input/spaceship-titanic/train.csv\")\n",
    "test = pd.read_csv(r'/kaggle/input/spaceship-titanic/test.csv')\n"
   ]
  },
  {
   "cell_type": "code",
   "execution_count": 4,
   "id": "ac9d4f2e",
   "metadata": {
    "execution": {
     "iopub.execute_input": "2023-11-20T23:55:03.750844Z",
     "iopub.status.busy": "2023-11-20T23:55:03.750254Z",
     "iopub.status.idle": "2023-11-20T23:55:03.777848Z",
     "shell.execute_reply": "2023-11-20T23:55:03.776916Z"
    },
    "papermill": {
     "duration": 0.035674,
     "end_time": "2023-11-20T23:55:03.779873",
     "exception": false,
     "start_time": "2023-11-20T23:55:03.744199",
     "status": "completed"
    },
    "tags": []
   },
   "outputs": [
    {
     "data": {
      "text/html": [
       "<div>\n",
       "<style scoped>\n",
       "    .dataframe tbody tr th:only-of-type {\n",
       "        vertical-align: middle;\n",
       "    }\n",
       "\n",
       "    .dataframe tbody tr th {\n",
       "        vertical-align: top;\n",
       "    }\n",
       "\n",
       "    .dataframe thead th {\n",
       "        text-align: right;\n",
       "    }\n",
       "</style>\n",
       "<table border=\"1\" class=\"dataframe\">\n",
       "  <thead>\n",
       "    <tr style=\"text-align: right;\">\n",
       "      <th></th>\n",
       "      <th>PassengerId</th>\n",
       "      <th>HomePlanet</th>\n",
       "      <th>CryoSleep</th>\n",
       "      <th>Cabin</th>\n",
       "      <th>Destination</th>\n",
       "      <th>Age</th>\n",
       "      <th>VIP</th>\n",
       "      <th>RoomService</th>\n",
       "      <th>FoodCourt</th>\n",
       "      <th>ShoppingMall</th>\n",
       "      <th>Spa</th>\n",
       "      <th>VRDeck</th>\n",
       "      <th>Name</th>\n",
       "      <th>Transported</th>\n",
       "    </tr>\n",
       "  </thead>\n",
       "  <tbody>\n",
       "    <tr>\n",
       "      <th>0</th>\n",
       "      <td>0001_01</td>\n",
       "      <td>Europa</td>\n",
       "      <td>False</td>\n",
       "      <td>B/0/P</td>\n",
       "      <td>TRAPPIST-1e</td>\n",
       "      <td>39.0</td>\n",
       "      <td>False</td>\n",
       "      <td>0.0</td>\n",
       "      <td>0.0</td>\n",
       "      <td>0.0</td>\n",
       "      <td>0.0</td>\n",
       "      <td>0.0</td>\n",
       "      <td>Maham Ofracculy</td>\n",
       "      <td>False</td>\n",
       "    </tr>\n",
       "    <tr>\n",
       "      <th>1</th>\n",
       "      <td>0002_01</td>\n",
       "      <td>Earth</td>\n",
       "      <td>False</td>\n",
       "      <td>F/0/S</td>\n",
       "      <td>TRAPPIST-1e</td>\n",
       "      <td>24.0</td>\n",
       "      <td>False</td>\n",
       "      <td>109.0</td>\n",
       "      <td>9.0</td>\n",
       "      <td>25.0</td>\n",
       "      <td>549.0</td>\n",
       "      <td>44.0</td>\n",
       "      <td>Juanna Vines</td>\n",
       "      <td>True</td>\n",
       "    </tr>\n",
       "    <tr>\n",
       "      <th>2</th>\n",
       "      <td>0003_01</td>\n",
       "      <td>Europa</td>\n",
       "      <td>False</td>\n",
       "      <td>A/0/S</td>\n",
       "      <td>TRAPPIST-1e</td>\n",
       "      <td>58.0</td>\n",
       "      <td>True</td>\n",
       "      <td>43.0</td>\n",
       "      <td>3576.0</td>\n",
       "      <td>0.0</td>\n",
       "      <td>6715.0</td>\n",
       "      <td>49.0</td>\n",
       "      <td>Altark Susent</td>\n",
       "      <td>False</td>\n",
       "    </tr>\n",
       "    <tr>\n",
       "      <th>3</th>\n",
       "      <td>0003_02</td>\n",
       "      <td>Europa</td>\n",
       "      <td>False</td>\n",
       "      <td>A/0/S</td>\n",
       "      <td>TRAPPIST-1e</td>\n",
       "      <td>33.0</td>\n",
       "      <td>False</td>\n",
       "      <td>0.0</td>\n",
       "      <td>1283.0</td>\n",
       "      <td>371.0</td>\n",
       "      <td>3329.0</td>\n",
       "      <td>193.0</td>\n",
       "      <td>Solam Susent</td>\n",
       "      <td>False</td>\n",
       "    </tr>\n",
       "    <tr>\n",
       "      <th>4</th>\n",
       "      <td>0004_01</td>\n",
       "      <td>Earth</td>\n",
       "      <td>False</td>\n",
       "      <td>F/1/S</td>\n",
       "      <td>TRAPPIST-1e</td>\n",
       "      <td>16.0</td>\n",
       "      <td>False</td>\n",
       "      <td>303.0</td>\n",
       "      <td>70.0</td>\n",
       "      <td>151.0</td>\n",
       "      <td>565.0</td>\n",
       "      <td>2.0</td>\n",
       "      <td>Willy Santantines</td>\n",
       "      <td>True</td>\n",
       "    </tr>\n",
       "  </tbody>\n",
       "</table>\n",
       "</div>"
      ],
      "text/plain": [
       "  PassengerId HomePlanet CryoSleep  Cabin  Destination   Age    VIP  \\\n",
       "0     0001_01     Europa     False  B/0/P  TRAPPIST-1e  39.0  False   \n",
       "1     0002_01      Earth     False  F/0/S  TRAPPIST-1e  24.0  False   \n",
       "2     0003_01     Europa     False  A/0/S  TRAPPIST-1e  58.0   True   \n",
       "3     0003_02     Europa     False  A/0/S  TRAPPIST-1e  33.0  False   \n",
       "4     0004_01      Earth     False  F/1/S  TRAPPIST-1e  16.0  False   \n",
       "\n",
       "   RoomService  FoodCourt  ShoppingMall     Spa  VRDeck               Name  \\\n",
       "0          0.0        0.0           0.0     0.0     0.0    Maham Ofracculy   \n",
       "1        109.0        9.0          25.0   549.0    44.0       Juanna Vines   \n",
       "2         43.0     3576.0           0.0  6715.0    49.0      Altark Susent   \n",
       "3          0.0     1283.0         371.0  3329.0   193.0       Solam Susent   \n",
       "4        303.0       70.0         151.0   565.0     2.0  Willy Santantines   \n",
       "\n",
       "   Transported  \n",
       "0        False  \n",
       "1         True  \n",
       "2        False  \n",
       "3        False  \n",
       "4         True  "
      ]
     },
     "execution_count": 4,
     "metadata": {},
     "output_type": "execute_result"
    }
   ],
   "source": [
    "train.head()"
   ]
  },
  {
   "cell_type": "code",
   "execution_count": 5,
   "id": "a920f41a",
   "metadata": {
    "execution": {
     "iopub.execute_input": "2023-11-20T23:55:03.793168Z",
     "iopub.status.busy": "2023-11-20T23:55:03.792423Z",
     "iopub.status.idle": "2023-11-20T23:55:03.810583Z",
     "shell.execute_reply": "2023-11-20T23:55:03.809612Z"
    },
    "papermill": {
     "duration": 0.027243,
     "end_time": "2023-11-20T23:55:03.812472",
     "exception": false,
     "start_time": "2023-11-20T23:55:03.785229",
     "status": "completed"
    },
    "tags": []
   },
   "outputs": [
    {
     "data": {
      "text/html": [
       "<div>\n",
       "<style scoped>\n",
       "    .dataframe tbody tr th:only-of-type {\n",
       "        vertical-align: middle;\n",
       "    }\n",
       "\n",
       "    .dataframe tbody tr th {\n",
       "        vertical-align: top;\n",
       "    }\n",
       "\n",
       "    .dataframe thead th {\n",
       "        text-align: right;\n",
       "    }\n",
       "</style>\n",
       "<table border=\"1\" class=\"dataframe\">\n",
       "  <thead>\n",
       "    <tr style=\"text-align: right;\">\n",
       "      <th></th>\n",
       "      <th>PassengerId</th>\n",
       "      <th>HomePlanet</th>\n",
       "      <th>CryoSleep</th>\n",
       "      <th>Cabin</th>\n",
       "      <th>Destination</th>\n",
       "      <th>Age</th>\n",
       "      <th>VIP</th>\n",
       "      <th>RoomService</th>\n",
       "      <th>FoodCourt</th>\n",
       "      <th>ShoppingMall</th>\n",
       "      <th>Spa</th>\n",
       "      <th>VRDeck</th>\n",
       "      <th>Name</th>\n",
       "    </tr>\n",
       "  </thead>\n",
       "  <tbody>\n",
       "    <tr>\n",
       "      <th>0</th>\n",
       "      <td>0013_01</td>\n",
       "      <td>Earth</td>\n",
       "      <td>True</td>\n",
       "      <td>G/3/S</td>\n",
       "      <td>TRAPPIST-1e</td>\n",
       "      <td>27.0</td>\n",
       "      <td>False</td>\n",
       "      <td>0.0</td>\n",
       "      <td>0.0</td>\n",
       "      <td>0.0</td>\n",
       "      <td>0.0</td>\n",
       "      <td>0.0</td>\n",
       "      <td>Nelly Carsoning</td>\n",
       "    </tr>\n",
       "    <tr>\n",
       "      <th>1</th>\n",
       "      <td>0018_01</td>\n",
       "      <td>Earth</td>\n",
       "      <td>False</td>\n",
       "      <td>F/4/S</td>\n",
       "      <td>TRAPPIST-1e</td>\n",
       "      <td>19.0</td>\n",
       "      <td>False</td>\n",
       "      <td>0.0</td>\n",
       "      <td>9.0</td>\n",
       "      <td>0.0</td>\n",
       "      <td>2823.0</td>\n",
       "      <td>0.0</td>\n",
       "      <td>Lerome Peckers</td>\n",
       "    </tr>\n",
       "    <tr>\n",
       "      <th>2</th>\n",
       "      <td>0019_01</td>\n",
       "      <td>Europa</td>\n",
       "      <td>True</td>\n",
       "      <td>C/0/S</td>\n",
       "      <td>55 Cancri e</td>\n",
       "      <td>31.0</td>\n",
       "      <td>False</td>\n",
       "      <td>0.0</td>\n",
       "      <td>0.0</td>\n",
       "      <td>0.0</td>\n",
       "      <td>0.0</td>\n",
       "      <td>0.0</td>\n",
       "      <td>Sabih Unhearfus</td>\n",
       "    </tr>\n",
       "    <tr>\n",
       "      <th>3</th>\n",
       "      <td>0021_01</td>\n",
       "      <td>Europa</td>\n",
       "      <td>False</td>\n",
       "      <td>C/1/S</td>\n",
       "      <td>TRAPPIST-1e</td>\n",
       "      <td>38.0</td>\n",
       "      <td>False</td>\n",
       "      <td>0.0</td>\n",
       "      <td>6652.0</td>\n",
       "      <td>0.0</td>\n",
       "      <td>181.0</td>\n",
       "      <td>585.0</td>\n",
       "      <td>Meratz Caltilter</td>\n",
       "    </tr>\n",
       "    <tr>\n",
       "      <th>4</th>\n",
       "      <td>0023_01</td>\n",
       "      <td>Earth</td>\n",
       "      <td>False</td>\n",
       "      <td>F/5/S</td>\n",
       "      <td>TRAPPIST-1e</td>\n",
       "      <td>20.0</td>\n",
       "      <td>False</td>\n",
       "      <td>10.0</td>\n",
       "      <td>0.0</td>\n",
       "      <td>635.0</td>\n",
       "      <td>0.0</td>\n",
       "      <td>0.0</td>\n",
       "      <td>Brence Harperez</td>\n",
       "    </tr>\n",
       "  </tbody>\n",
       "</table>\n",
       "</div>"
      ],
      "text/plain": [
       "  PassengerId HomePlanet CryoSleep  Cabin  Destination   Age    VIP  \\\n",
       "0     0013_01      Earth      True  G/3/S  TRAPPIST-1e  27.0  False   \n",
       "1     0018_01      Earth     False  F/4/S  TRAPPIST-1e  19.0  False   \n",
       "2     0019_01     Europa      True  C/0/S  55 Cancri e  31.0  False   \n",
       "3     0021_01     Europa     False  C/1/S  TRAPPIST-1e  38.0  False   \n",
       "4     0023_01      Earth     False  F/5/S  TRAPPIST-1e  20.0  False   \n",
       "\n",
       "   RoomService  FoodCourt  ShoppingMall     Spa  VRDeck              Name  \n",
       "0          0.0        0.0           0.0     0.0     0.0   Nelly Carsoning  \n",
       "1          0.0        9.0           0.0  2823.0     0.0    Lerome Peckers  \n",
       "2          0.0        0.0           0.0     0.0     0.0   Sabih Unhearfus  \n",
       "3          0.0     6652.0           0.0   181.0   585.0  Meratz Caltilter  \n",
       "4         10.0        0.0         635.0     0.0     0.0   Brence Harperez  "
      ]
     },
     "execution_count": 5,
     "metadata": {},
     "output_type": "execute_result"
    }
   ],
   "source": [
    "test.head()"
   ]
  },
  {
   "cell_type": "code",
   "execution_count": 6,
   "id": "d74286a5",
   "metadata": {
    "execution": {
     "iopub.execute_input": "2023-11-20T23:55:03.825205Z",
     "iopub.status.busy": "2023-11-20T23:55:03.824571Z",
     "iopub.status.idle": "2023-11-20T23:55:03.854121Z",
     "shell.execute_reply": "2023-11-20T23:55:03.853173Z"
    },
    "papermill": {
     "duration": 0.038471,
     "end_time": "2023-11-20T23:55:03.856490",
     "exception": false,
     "start_time": "2023-11-20T23:55:03.818019",
     "status": "completed"
    },
    "tags": []
   },
   "outputs": [
    {
     "data": {
      "text/html": [
       "<div>\n",
       "<style scoped>\n",
       "    .dataframe tbody tr th:only-of-type {\n",
       "        vertical-align: middle;\n",
       "    }\n",
       "\n",
       "    .dataframe tbody tr th {\n",
       "        vertical-align: top;\n",
       "    }\n",
       "\n",
       "    .dataframe thead th {\n",
       "        text-align: right;\n",
       "    }\n",
       "</style>\n",
       "<table border=\"1\" class=\"dataframe\">\n",
       "  <thead>\n",
       "    <tr style=\"text-align: right;\">\n",
       "      <th></th>\n",
       "      <th>Age</th>\n",
       "      <th>RoomService</th>\n",
       "      <th>FoodCourt</th>\n",
       "      <th>ShoppingMall</th>\n",
       "      <th>Spa</th>\n",
       "      <th>VRDeck</th>\n",
       "    </tr>\n",
       "  </thead>\n",
       "  <tbody>\n",
       "    <tr>\n",
       "      <th>count</th>\n",
       "      <td>8514.000000</td>\n",
       "      <td>8512.000000</td>\n",
       "      <td>8510.000000</td>\n",
       "      <td>8485.000000</td>\n",
       "      <td>8510.000000</td>\n",
       "      <td>8505.000000</td>\n",
       "    </tr>\n",
       "    <tr>\n",
       "      <th>mean</th>\n",
       "      <td>28.827930</td>\n",
       "      <td>224.687617</td>\n",
       "      <td>458.077203</td>\n",
       "      <td>173.729169</td>\n",
       "      <td>311.138778</td>\n",
       "      <td>304.854791</td>\n",
       "    </tr>\n",
       "    <tr>\n",
       "      <th>std</th>\n",
       "      <td>14.489021</td>\n",
       "      <td>666.717663</td>\n",
       "      <td>1611.489240</td>\n",
       "      <td>604.696458</td>\n",
       "      <td>1136.705535</td>\n",
       "      <td>1145.717189</td>\n",
       "    </tr>\n",
       "    <tr>\n",
       "      <th>min</th>\n",
       "      <td>0.000000</td>\n",
       "      <td>0.000000</td>\n",
       "      <td>0.000000</td>\n",
       "      <td>0.000000</td>\n",
       "      <td>0.000000</td>\n",
       "      <td>0.000000</td>\n",
       "    </tr>\n",
       "    <tr>\n",
       "      <th>25%</th>\n",
       "      <td>19.000000</td>\n",
       "      <td>0.000000</td>\n",
       "      <td>0.000000</td>\n",
       "      <td>0.000000</td>\n",
       "      <td>0.000000</td>\n",
       "      <td>0.000000</td>\n",
       "    </tr>\n",
       "    <tr>\n",
       "      <th>50%</th>\n",
       "      <td>27.000000</td>\n",
       "      <td>0.000000</td>\n",
       "      <td>0.000000</td>\n",
       "      <td>0.000000</td>\n",
       "      <td>0.000000</td>\n",
       "      <td>0.000000</td>\n",
       "    </tr>\n",
       "    <tr>\n",
       "      <th>75%</th>\n",
       "      <td>38.000000</td>\n",
       "      <td>47.000000</td>\n",
       "      <td>76.000000</td>\n",
       "      <td>27.000000</td>\n",
       "      <td>59.000000</td>\n",
       "      <td>46.000000</td>\n",
       "    </tr>\n",
       "    <tr>\n",
       "      <th>max</th>\n",
       "      <td>79.000000</td>\n",
       "      <td>14327.000000</td>\n",
       "      <td>29813.000000</td>\n",
       "      <td>23492.000000</td>\n",
       "      <td>22408.000000</td>\n",
       "      <td>24133.000000</td>\n",
       "    </tr>\n",
       "  </tbody>\n",
       "</table>\n",
       "</div>"
      ],
      "text/plain": [
       "               Age   RoomService     FoodCourt  ShoppingMall           Spa  \\\n",
       "count  8514.000000   8512.000000   8510.000000   8485.000000   8510.000000   \n",
       "mean     28.827930    224.687617    458.077203    173.729169    311.138778   \n",
       "std      14.489021    666.717663   1611.489240    604.696458   1136.705535   \n",
       "min       0.000000      0.000000      0.000000      0.000000      0.000000   \n",
       "25%      19.000000      0.000000      0.000000      0.000000      0.000000   \n",
       "50%      27.000000      0.000000      0.000000      0.000000      0.000000   \n",
       "75%      38.000000     47.000000     76.000000     27.000000     59.000000   \n",
       "max      79.000000  14327.000000  29813.000000  23492.000000  22408.000000   \n",
       "\n",
       "             VRDeck  \n",
       "count   8505.000000  \n",
       "mean     304.854791  \n",
       "std     1145.717189  \n",
       "min        0.000000  \n",
       "25%        0.000000  \n",
       "50%        0.000000  \n",
       "75%       46.000000  \n",
       "max    24133.000000  "
      ]
     },
     "execution_count": 6,
     "metadata": {},
     "output_type": "execute_result"
    }
   ],
   "source": [
    "train.describe()"
   ]
  },
  {
   "cell_type": "code",
   "execution_count": 7,
   "id": "bf320f8a",
   "metadata": {
    "execution": {
     "iopub.execute_input": "2023-11-20T23:55:03.869745Z",
     "iopub.status.busy": "2023-11-20T23:55:03.869361Z",
     "iopub.status.idle": "2023-11-20T23:55:03.879912Z",
     "shell.execute_reply": "2023-11-20T23:55:03.879018Z"
    },
    "papermill": {
     "duration": 0.019335,
     "end_time": "2023-11-20T23:55:03.881684",
     "exception": false,
     "start_time": "2023-11-20T23:55:03.862349",
     "status": "completed"
    },
    "tags": []
   },
   "outputs": [
    {
     "data": {
      "text/plain": [
       "PassengerId       0\n",
       "HomePlanet      201\n",
       "CryoSleep       217\n",
       "Cabin           199\n",
       "Destination     182\n",
       "Age             179\n",
       "VIP             203\n",
       "RoomService     181\n",
       "FoodCourt       183\n",
       "ShoppingMall    208\n",
       "Spa             183\n",
       "VRDeck          188\n",
       "Name            200\n",
       "Transported       0\n",
       "dtype: int64"
      ]
     },
     "execution_count": 7,
     "metadata": {},
     "output_type": "execute_result"
    }
   ],
   "source": [
    "train.isnull().sum()"
   ]
  },
  {
   "cell_type": "code",
   "execution_count": 8,
   "id": "56b8ff97",
   "metadata": {
    "execution": {
     "iopub.execute_input": "2023-11-20T23:55:03.895135Z",
     "iopub.status.busy": "2023-11-20T23:55:03.894731Z",
     "iopub.status.idle": "2023-11-20T23:55:03.904078Z",
     "shell.execute_reply": "2023-11-20T23:55:03.903028Z"
    },
    "papermill": {
     "duration": 0.019427,
     "end_time": "2023-11-20T23:55:03.906848",
     "exception": false,
     "start_time": "2023-11-20T23:55:03.887421",
     "status": "completed"
    },
    "tags": []
   },
   "outputs": [
    {
     "data": {
      "text/plain": [
       "PassengerId       0\n",
       "HomePlanet       87\n",
       "CryoSleep        93\n",
       "Cabin           100\n",
       "Destination      92\n",
       "Age              91\n",
       "VIP              93\n",
       "RoomService      82\n",
       "FoodCourt       106\n",
       "ShoppingMall     98\n",
       "Spa             101\n",
       "VRDeck           80\n",
       "Name             94\n",
       "dtype: int64"
      ]
     },
     "execution_count": 8,
     "metadata": {},
     "output_type": "execute_result"
    }
   ],
   "source": [
    "test.isnull().sum()"
   ]
  },
  {
   "cell_type": "code",
   "execution_count": 9,
   "id": "9aa7560a",
   "metadata": {
    "execution": {
     "iopub.execute_input": "2023-11-20T23:55:03.920420Z",
     "iopub.status.busy": "2023-11-20T23:55:03.920048Z",
     "iopub.status.idle": "2023-11-20T23:55:03.943821Z",
     "shell.execute_reply": "2023-11-20T23:55:03.942872Z"
    },
    "papermill": {
     "duration": 0.033349,
     "end_time": "2023-11-20T23:55:03.946222",
     "exception": false,
     "start_time": "2023-11-20T23:55:03.912873",
     "status": "completed"
    },
    "tags": []
   },
   "outputs": [],
   "source": [
    "#Transformamos los datos llenando los datos nulos y cambiando el formato de otros\n",
    "imputer_cols = [\"Age\", \"FoodCourt\", \"ShoppingMall\", \"Spa\", \"VRDeck\" ,\"RoomService\"]\n",
    "imputer = SimpleImputer(strategy='mean' )\n",
    "imputer.fit(train[imputer_cols])\n",
    "train[imputer_cols] = imputer.transform(train[imputer_cols])\n",
    "test[imputer_cols] = imputer.transform(test[imputer_cols])\n",
    "train[\"HomePlanet\"].fillna('Z', inplace=True)\n",
    "test[\"HomePlanet\"].fillna('Z', inplace=True)"
   ]
  },
  {
   "cell_type": "code",
   "execution_count": 10,
   "id": "ba6b4a35",
   "metadata": {
    "execution": {
     "iopub.execute_input": "2023-11-20T23:55:03.959898Z",
     "iopub.status.busy": "2023-11-20T23:55:03.959320Z",
     "iopub.status.idle": "2023-11-20T23:55:03.969418Z",
     "shell.execute_reply": "2023-11-20T23:55:03.968109Z"
    },
    "papermill": {
     "duration": 0.019265,
     "end_time": "2023-11-20T23:55:03.971455",
     "exception": false,
     "start_time": "2023-11-20T23:55:03.952190",
     "status": "completed"
    },
    "tags": []
   },
   "outputs": [
    {
     "data": {
      "text/plain": [
       "PassengerId       0\n",
       "HomePlanet        0\n",
       "CryoSleep       217\n",
       "Cabin           199\n",
       "Destination     182\n",
       "Age               0\n",
       "VIP             203\n",
       "RoomService       0\n",
       "FoodCourt         0\n",
       "ShoppingMall      0\n",
       "Spa               0\n",
       "VRDeck            0\n",
       "Name            200\n",
       "Transported       0\n",
       "dtype: int64"
      ]
     },
     "execution_count": 10,
     "metadata": {},
     "output_type": "execute_result"
    }
   ],
   "source": [
    "train.isnull().sum()"
   ]
  },
  {
   "cell_type": "code",
   "execution_count": 11,
   "id": "2a76d1d9",
   "metadata": {
    "execution": {
     "iopub.execute_input": "2023-11-20T23:55:03.985552Z",
     "iopub.status.busy": "2023-11-20T23:55:03.985188Z",
     "iopub.status.idle": "2023-11-20T23:55:04.033290Z",
     "shell.execute_reply": "2023-11-20T23:55:04.031991Z"
    },
    "papermill": {
     "duration": 0.058464,
     "end_time": "2023-11-20T23:55:04.036018",
     "exception": false,
     "start_time": "2023-11-20T23:55:03.977554",
     "status": "completed"
    },
    "tags": []
   },
   "outputs": [],
   "source": [
    "label_cols = [\"HomePlanet\", \"CryoSleep\",\"Cabin\", \"Destination\" ,\"VIP\"]\n",
    "def label_encoder(train,test,columns):\n",
    "    for col in columns:\n",
    "        train[col] = train[col].astype(str)\n",
    "        test[col] = test[col].astype(str)\n",
    "        train[col] = LabelEncoder().fit_transform(train[col])\n",
    "        test[col] =  LabelEncoder().fit_transform(test[col])\n",
    "    return train, test\n",
    "\n",
    "train ,test = label_encoder(train,test ,label_cols)"
   ]
  },
  {
   "cell_type": "code",
   "execution_count": 12,
   "id": "d8516dff",
   "metadata": {
    "execution": {
     "iopub.execute_input": "2023-11-20T23:55:04.049783Z",
     "iopub.status.busy": "2023-11-20T23:55:04.049416Z",
     "iopub.status.idle": "2023-11-20T23:55:04.061540Z",
     "shell.execute_reply": "2023-11-20T23:55:04.060007Z"
    },
    "papermill": {
     "duration": 0.022258,
     "end_time": "2023-11-20T23:55:04.064370",
     "exception": false,
     "start_time": "2023-11-20T23:55:04.042112",
     "status": "completed"
    },
    "tags": []
   },
   "outputs": [
    {
     "data": {
      "text/plain": [
       "PassengerId       0\n",
       "HomePlanet        0\n",
       "CryoSleep         0\n",
       "Cabin             0\n",
       "Destination       0\n",
       "Age               0\n",
       "VIP               0\n",
       "RoomService       0\n",
       "FoodCourt         0\n",
       "ShoppingMall      0\n",
       "Spa               0\n",
       "VRDeck            0\n",
       "Name            200\n",
       "Transported       0\n",
       "dtype: int64"
      ]
     },
     "execution_count": 12,
     "metadata": {},
     "output_type": "execute_result"
    }
   ],
   "source": [
    "train.isnull().sum()"
   ]
  },
  {
   "cell_type": "code",
   "execution_count": 13,
   "id": "6affccba",
   "metadata": {
    "execution": {
     "iopub.execute_input": "2023-11-20T23:55:04.078611Z",
     "iopub.status.busy": "2023-11-20T23:55:04.078253Z",
     "iopub.status.idle": "2023-11-20T23:55:04.087888Z",
     "shell.execute_reply": "2023-11-20T23:55:04.086648Z"
    },
    "papermill": {
     "duration": 0.019243,
     "end_time": "2023-11-20T23:55:04.090020",
     "exception": false,
     "start_time": "2023-11-20T23:55:04.070777",
     "status": "completed"
    },
    "tags": []
   },
   "outputs": [
    {
     "data": {
      "text/plain": [
       "PassengerId      0\n",
       "HomePlanet       0\n",
       "CryoSleep        0\n",
       "Cabin            0\n",
       "Destination      0\n",
       "Age              0\n",
       "VIP              0\n",
       "RoomService      0\n",
       "FoodCourt        0\n",
       "ShoppingMall     0\n",
       "Spa              0\n",
       "VRDeck           0\n",
       "Name            94\n",
       "dtype: int64"
      ]
     },
     "execution_count": 13,
     "metadata": {},
     "output_type": "execute_result"
    }
   ],
   "source": [
    "test.isnull().sum()"
   ]
  },
  {
   "cell_type": "code",
   "execution_count": 14,
   "id": "131cf9e1",
   "metadata": {
    "execution": {
     "iopub.execute_input": "2023-11-20T23:55:04.104503Z",
     "iopub.status.busy": "2023-11-20T23:55:04.104084Z",
     "iopub.status.idle": "2023-11-20T23:55:04.113428Z",
     "shell.execute_reply": "2023-11-20T23:55:04.112607Z"
    },
    "papermill": {
     "duration": 0.019251,
     "end_time": "2023-11-20T23:55:04.115641",
     "exception": false,
     "start_time": "2023-11-20T23:55:04.096390",
     "status": "completed"
    },
    "tags": []
   },
   "outputs": [],
   "source": [
    "train.drop([\"Name\" ,\"Cabin\"] , axis = 1 ,inplace = True)\n",
    "test.drop([\"Name\" ,\"Cabin\"] , axis = 1 ,inplace = True)"
   ]
  },
  {
   "cell_type": "code",
   "execution_count": 15,
   "id": "202bbeb6",
   "metadata": {
    "execution": {
     "iopub.execute_input": "2023-11-20T23:55:04.129928Z",
     "iopub.status.busy": "2023-11-20T23:55:04.129525Z",
     "iopub.status.idle": "2023-11-20T23:55:04.136861Z",
     "shell.execute_reply": "2023-11-20T23:55:04.135477Z"
    },
    "papermill": {
     "duration": 0.016949,
     "end_time": "2023-11-20T23:55:04.139023",
     "exception": false,
     "start_time": "2023-11-20T23:55:04.122074",
     "status": "completed"
    },
    "tags": []
   },
   "outputs": [],
   "source": [
    "train.drop([\"PassengerId\"] , axis = 1 , inplace = True)\n",
    "passengers_Id = test.pop(\"PassengerId\").to_frame()"
   ]
  },
  {
   "cell_type": "code",
   "execution_count": 16,
   "id": "6dff5ef6",
   "metadata": {
    "execution": {
     "iopub.execute_input": "2023-11-20T23:55:04.152985Z",
     "iopub.status.busy": "2023-11-20T23:55:04.152637Z",
     "iopub.status.idle": "2023-11-20T23:55:04.162162Z",
     "shell.execute_reply": "2023-11-20T23:55:04.161391Z"
    },
    "papermill": {
     "duration": 0.018518,
     "end_time": "2023-11-20T23:55:04.163864",
     "exception": false,
     "start_time": "2023-11-20T23:55:04.145346",
     "status": "completed"
    },
    "tags": []
   },
   "outputs": [],
   "source": [
    "#Creamos nuestros datos de prueba y de validacion\n",
    "X = train.drop('Transported' , axis =1 )\n",
    "y = train['Transported']\n",
    "X_train , X_test , y_train , y_test = train_test_split(X , y, random_state = 12 , test_size =0.33)"
   ]
  },
  {
   "cell_type": "code",
   "execution_count": 17,
   "id": "3a101bc4",
   "metadata": {
    "execution": {
     "iopub.execute_input": "2023-11-20T23:55:04.179512Z",
     "iopub.status.busy": "2023-11-20T23:55:04.178966Z",
     "iopub.status.idle": "2023-11-20T23:55:04.188356Z",
     "shell.execute_reply": "2023-11-20T23:55:04.187686Z"
    },
    "papermill": {
     "duration": 0.019265,
     "end_time": "2023-11-20T23:55:04.190047",
     "exception": false,
     "start_time": "2023-11-20T23:55:04.170782",
     "status": "completed"
    },
    "tags": []
   },
   "outputs": [
    {
     "data": {
      "text/plain": [
       "CryoSleep\n",
       "0    5439\n",
       "1    3037\n",
       "2     217\n",
       "Name: count, dtype: int64"
      ]
     },
     "execution_count": 17,
     "metadata": {},
     "output_type": "execute_result"
    }
   ],
   "source": [
    "train['CryoSleep'].value_counts()"
   ]
  },
  {
   "cell_type": "code",
   "execution_count": 18,
   "id": "0e398940",
   "metadata": {
    "execution": {
     "iopub.execute_input": "2023-11-20T23:55:04.205749Z",
     "iopub.status.busy": "2023-11-20T23:55:04.205154Z",
     "iopub.status.idle": "2023-11-20T23:55:04.279984Z",
     "shell.execute_reply": "2023-11-20T23:55:04.279269Z"
    },
    "papermill": {
     "duration": 0.085631,
     "end_time": "2023-11-20T23:55:04.282639",
     "exception": false,
     "start_time": "2023-11-20T23:55:04.197008",
     "status": "completed"
    },
    "tags": []
   },
   "outputs": [
    {
     "name": "stdout",
     "output_type": "stream",
     "text": [
      "score on test: 0.7671662600209133\n",
      "score on train: 0.7884615384615384\n"
     ]
    },
    {
     "name": "stderr",
     "output_type": "stream",
     "text": [
      "/opt/conda/lib/python3.10/site-packages/sklearn/linear_model/_logistic.py:458: ConvergenceWarning: lbfgs failed to converge (status=1):\n",
      "STOP: TOTAL NO. of ITERATIONS REACHED LIMIT.\n",
      "\n",
      "Increase the number of iterations (max_iter) or scale the data as shown in:\n",
      "    https://scikit-learn.org/stable/modules/preprocessing.html\n",
      "Please also refer to the documentation for alternative solver options:\n",
      "    https://scikit-learn.org/stable/modules/linear_model.html#logistic-regression\n",
      "  n_iter_i = _check_optimize_result(\n"
     ]
    }
   ],
   "source": [
    "model = LogisticRegression(random_state=0)\n",
    "model.fit(X_train, y_train)\n",
    "print(\"score on test: \" + str(model.score(X_test, y_test)))\n",
    "print(\"score on train: \"+ str(model.score(X_train, y_train)))"
   ]
  },
  {
   "cell_type": "code",
   "execution_count": 19,
   "id": "4699c9f5",
   "metadata": {
    "execution": {
     "iopub.execute_input": "2023-11-20T23:55:04.300326Z",
     "iopub.status.busy": "2023-11-20T23:55:04.299505Z",
     "iopub.status.idle": "2023-11-20T23:55:04.309383Z",
     "shell.execute_reply": "2023-11-20T23:55:04.308656Z"
    },
    "papermill": {
     "duration": 0.020632,
     "end_time": "2023-11-20T23:55:04.311226",
     "exception": false,
     "start_time": "2023-11-20T23:55:04.290594",
     "status": "completed"
    },
    "tags": []
   },
   "outputs": [],
   "source": [
    "#Ahora usaremos los datos de prueba:\n",
    "test_X=test[['HomePlanet','CryoSleep','Destination','Age','VIP','RoomService','FoodCourt','ShoppingMall','Spa','VRDeck']]\n",
    "y_pred=model.predict(test_X)"
   ]
  },
  {
   "cell_type": "code",
   "execution_count": 20,
   "id": "a156ac30",
   "metadata": {
    "execution": {
     "iopub.execute_input": "2023-11-20T23:55:04.330316Z",
     "iopub.status.busy": "2023-11-20T23:55:04.329295Z",
     "iopub.status.idle": "2023-11-20T23:55:04.335387Z",
     "shell.execute_reply": "2023-11-20T23:55:04.334630Z"
    },
    "papermill": {
     "duration": 0.020935,
     "end_time": "2023-11-20T23:55:04.340318",
     "exception": false,
     "start_time": "2023-11-20T23:55:04.319383",
     "status": "completed"
    },
    "tags": []
   },
   "outputs": [
    {
     "data": {
      "text/plain": [
       "array([ True, False,  True, ...,  True,  True,  True])"
      ]
     },
     "execution_count": 20,
     "metadata": {},
     "output_type": "execute_result"
    }
   ],
   "source": [
    "y_pred"
   ]
  },
  {
   "cell_type": "code",
   "execution_count": 21,
   "id": "316c6e87",
   "metadata": {
    "execution": {
     "iopub.execute_input": "2023-11-20T23:55:04.358257Z",
     "iopub.status.busy": "2023-11-20T23:55:04.357858Z",
     "iopub.status.idle": "2023-11-20T23:55:04.373741Z",
     "shell.execute_reply": "2023-11-20T23:55:04.373004Z"
    },
    "papermill": {
     "duration": 0.026849,
     "end_time": "2023-11-20T23:55:04.375618",
     "exception": false,
     "start_time": "2023-11-20T23:55:04.348769",
     "status": "completed"
    },
    "tags": []
   },
   "outputs": [],
   "source": [
    "#Enviamos nuestros resultados\n",
    "submit = passengers_Id\n",
    "output=pd.DataFrame(submit, columns=[\"id\"])\n",
    "submit['Transported'] = y_pred\n",
    "output.to_csv(\"submission.csv\",index=False)"
   ]
  },
  {
   "cell_type": "code",
   "execution_count": 22,
   "id": "a69e0920",
   "metadata": {
    "execution": {
     "iopub.execute_input": "2023-11-20T23:55:04.394121Z",
     "iopub.status.busy": "2023-11-20T23:55:04.393721Z",
     "iopub.status.idle": "2023-11-20T23:55:04.408384Z",
     "shell.execute_reply": "2023-11-20T23:55:04.407606Z"
    },
    "papermill": {
     "duration": 0.026852,
     "end_time": "2023-11-20T23:55:04.410582",
     "exception": false,
     "start_time": "2023-11-20T23:55:04.383730",
     "status": "completed"
    },
    "tags": []
   },
   "outputs": [
    {
     "data": {
      "text/html": [
       "<div>\n",
       "<style scoped>\n",
       "    .dataframe tbody tr th:only-of-type {\n",
       "        vertical-align: middle;\n",
       "    }\n",
       "\n",
       "    .dataframe tbody tr th {\n",
       "        vertical-align: top;\n",
       "    }\n",
       "\n",
       "    .dataframe thead th {\n",
       "        text-align: right;\n",
       "    }\n",
       "</style>\n",
       "<table border=\"1\" class=\"dataframe\">\n",
       "  <thead>\n",
       "    <tr style=\"text-align: right;\">\n",
       "      <th></th>\n",
       "      <th>PassengerId</th>\n",
       "      <th>Transported</th>\n",
       "    </tr>\n",
       "  </thead>\n",
       "  <tbody>\n",
       "    <tr>\n",
       "      <th>0</th>\n",
       "      <td>0013_01</td>\n",
       "      <td>True</td>\n",
       "    </tr>\n",
       "    <tr>\n",
       "      <th>1</th>\n",
       "      <td>0018_01</td>\n",
       "      <td>False</td>\n",
       "    </tr>\n",
       "    <tr>\n",
       "      <th>2</th>\n",
       "      <td>0019_01</td>\n",
       "      <td>True</td>\n",
       "    </tr>\n",
       "    <tr>\n",
       "      <th>3</th>\n",
       "      <td>0021_01</td>\n",
       "      <td>True</td>\n",
       "    </tr>\n",
       "    <tr>\n",
       "      <th>4</th>\n",
       "      <td>0023_01</td>\n",
       "      <td>False</td>\n",
       "    </tr>\n",
       "    <tr>\n",
       "      <th>...</th>\n",
       "      <td>...</td>\n",
       "      <td>...</td>\n",
       "    </tr>\n",
       "    <tr>\n",
       "      <th>4272</th>\n",
       "      <td>9266_02</td>\n",
       "      <td>True</td>\n",
       "    </tr>\n",
       "    <tr>\n",
       "      <th>4273</th>\n",
       "      <td>9269_01</td>\n",
       "      <td>False</td>\n",
       "    </tr>\n",
       "    <tr>\n",
       "      <th>4274</th>\n",
       "      <td>9271_01</td>\n",
       "      <td>True</td>\n",
       "    </tr>\n",
       "    <tr>\n",
       "      <th>4275</th>\n",
       "      <td>9273_01</td>\n",
       "      <td>True</td>\n",
       "    </tr>\n",
       "    <tr>\n",
       "      <th>4276</th>\n",
       "      <td>9277_01</td>\n",
       "      <td>True</td>\n",
       "    </tr>\n",
       "  </tbody>\n",
       "</table>\n",
       "<p>4277 rows × 2 columns</p>\n",
       "</div>"
      ],
      "text/plain": [
       "     PassengerId  Transported\n",
       "0        0013_01         True\n",
       "1        0018_01        False\n",
       "2        0019_01         True\n",
       "3        0021_01         True\n",
       "4        0023_01        False\n",
       "...          ...          ...\n",
       "4272     9266_02         True\n",
       "4273     9269_01        False\n",
       "4274     9271_01         True\n",
       "4275     9273_01         True\n",
       "4276     9277_01         True\n",
       "\n",
       "[4277 rows x 2 columns]"
      ]
     },
     "execution_count": 22,
     "metadata": {},
     "output_type": "execute_result"
    }
   ],
   "source": [
    "submit"
   ]
  }
 ],
 "metadata": {
  "kaggle": {
   "accelerator": "none",
   "dataSources": [
    {
     "databundleVersionId": 3220602,
     "sourceId": 34377,
     "sourceType": "competition"
    }
   ],
   "dockerImageVersionId": 30587,
   "isGpuEnabled": false,
   "isInternetEnabled": true,
   "language": "python",
   "sourceType": "notebook"
  },
  "kernelspec": {
   "display_name": "Python 3",
   "language": "python",
   "name": "python3"
  },
  "language_info": {
   "codemirror_mode": {
    "name": "ipython",
    "version": 3
   },
   "file_extension": ".py",
   "mimetype": "text/x-python",
   "name": "python",
   "nbconvert_exporter": "python",
   "pygments_lexer": "ipython3",
   "version": "3.10.12"
  },
  "papermill": {
   "default_parameters": {},
   "duration": 5.681751,
   "end_time": "2023-11-20T23:55:04.939091",
   "environment_variables": {},
   "exception": null,
   "input_path": "__notebook__.ipynb",
   "output_path": "__notebook__.ipynb",
   "parameters": {},
   "start_time": "2023-11-20T23:54:59.257340",
   "version": "2.4.0"
  }
 },
 "nbformat": 4,
 "nbformat_minor": 5
}
